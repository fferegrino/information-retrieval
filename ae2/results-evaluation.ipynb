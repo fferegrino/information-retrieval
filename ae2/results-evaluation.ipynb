{
 "cells": [
  {
   "cell_type": "code",
   "execution_count": 1,
   "metadata": {
    "collapsed": true
   },
   "outputs": [],
   "source": [
    "import pandas as pd\n",
    "from utils.read_eval import read_eval, get_recalls, merge_same_topic\n",
    "from utils.parse_terrier_input import read_topics\n",
    "\n",
    "pl2_ltr_eval =  r\"C:\\Users\\anton\\Documents\\GitHub\\information-retrieval\\ae2\\results\\pl2_ltr.eval\"\n",
    "pl2_eval =      r\"C:\\Users\\anton\\Documents\\GitHub\\information-retrieval\\ae2\\results\\pl2.eval\""
   ]
  },
  {
   "cell_type": "code",
   "execution_count": 2,
   "metadata": {
    "collapsed": true
   },
   "outputs": [],
   "source": [
    "total_ltr, per_query_ltr = read_eval(pl2_ltr_eval,True)\n",
    "total_ltr.index.name = \"configuration\"\n",
    "total_ltr.index = [\"PL2 LTR\"]\n",
    "\n",
    "total, per_query = read_eval(pl2_eval,True)\n",
    "total.index.name = \"configuration\"\n",
    "total.index = [\"PL2\"]"
   ]
  },
  {
   "cell_type": "markdown",
   "metadata": {},
   "source": [
    "## Q1:  \n",
    "First, in a table, report the effectiveness performances of the two system configurations: LTR (using PL2 to generate the sample) vs. PL2. In your report, show the results in a table as follows (Report all your MAP and P@5 performances to 4 decimal places):  "
   ]
  },
  {
   "cell_type": "code",
   "execution_count": 3,
   "metadata": {},
   "outputs": [
    {
     "data": {
      "text/html": [
       "<div>\n",
       "<style scoped>\n",
       "    .dataframe tbody tr th:only-of-type {\n",
       "        vertical-align: middle;\n",
       "    }\n",
       "\n",
       "    .dataframe tbody tr th {\n",
       "        vertical-align: top;\n",
       "    }\n",
       "\n",
       "    .dataframe thead th {\n",
       "        text-align: right;\n",
       "    }\n",
       "</style>\n",
       "<table border=\"1\" class=\"dataframe\">\n",
       "  <thead>\n",
       "    <tr style=\"text-align: right;\">\n",
       "      <th>measure</th>\n",
       "      <th>map</th>\n",
       "      <th>P_5</th>\n",
       "    </tr>\n",
       "  </thead>\n",
       "  <tbody>\n",
       "    <tr>\n",
       "      <th>PL2 LTR</th>\n",
       "      <td>0.4690</td>\n",
       "      <td>0.1333</td>\n",
       "    </tr>\n",
       "    <tr>\n",
       "      <th>PL2</th>\n",
       "      <td>0.2251</td>\n",
       "      <td>0.0693</td>\n",
       "    </tr>\n",
       "  </tbody>\n",
       "</table>\n",
       "</div>"
      ],
      "text/plain": [
       "measure     map     P_5\n",
       "PL2 LTR  0.4690  0.1333\n",
       "PL2      0.2251  0.0693"
      ]
     },
     "execution_count": 3,
     "metadata": {},
     "output_type": "execute_result"
    }
   ],
   "source": [
    "q1 = pd.concat([\n",
    "    total_ltr[[\"map\", \"P_5\"]],\n",
    "    total[[\"map\", \"P_5\"]]\n",
    "])\n",
    "q1.head()"
   ]
  },
  {
   "cell_type": "markdown",
   "metadata": {},
   "source": [
    "Use the t-test statistical significance test to conclude if the performances of LTR are significantly better than that of PL2 using MAP or P@5.  For example, to conduct a t-test, you can use the online t-test tool available at: [http://www.socscistatistics.com/tests/studentttest/](http://www.socscistatistics.com/tests/studentttest/) and select a two-tailed test with a significance level of 0.05. "
   ]
  },
  {
   "cell_type": "code",
   "execution_count": null,
   "metadata": {},
   "outputs": [],
   "source": [
    "print(\"MAP\")\n",
    "print(\"Treatment 1:\")\n",
    "print(\",\".join([m[0] for m in per_query[[\"map\"]].sort_index().values]),\"\\n\")\n",
    "print()\n",
    "print(\"Treatment 2 (LTR):\")\n",
    "print(\",\".join([m[0] for m in per_query_ltr[[\"map\"]].sort_index().values]))\n",
    "print(\"\\nP@5\")\n",
    "print(\"Treatment 1:\")\n",
    "print(\",\".join([m[0] for m in per_query[[\"P_5\"]].sort_index().values]),\"\\n\")\n",
    "print(\"Treatment 2 (LTR):\")\n",
    "print(\",\".join([m[0] for m in per_query_ltr[[\"P_5\"]].sort_index().values]))"
   ]
  },
  {
   "cell_type": "markdown",
   "metadata": {},
   "source": [
    "For your two statistical tests, report their outcomes using the following format:  \n",
    "\n",
    "```\n",
    "LTR vs PL2 on Metric M (M being either MAP or P@5): The t-value is XXXX. The p-value is XXXX. The result is <significant/not significant> at p < .05. \n",
    "```\n",
    "\n",
    "Now, using the outcome of your t-test tool, state if LTR (PL2 sample) is better by a statistically significant margin than PL2 on either or both of the used effectiveness metrics. "
   ]
  },
  {
   "cell_type": "markdown",
   "metadata": {},
   "source": [
    " > LTR vs PL2 on Metric MAP: The t-value is -4.11011. The p-value is .000065. The result is significant at p < .05.  \n",
    " \n",
    " > LTR vs PL2 on Metric P@5: The t-value is -3.45342. The p-value is .000722. The result is significant at p < .05."
   ]
  },
  {
   "cell_type": "code",
   "execution_count": null,
   "metadata": {
    "collapsed": true
   },
   "outputs": [],
   "source": []
  }
 ],
 "metadata": {
  "kernelspec": {
   "display_name": "Python 3",
   "language": "python",
   "name": "python3"
  },
  "language_info": {
   "codemirror_mode": {
    "name": "ipython",
    "version": 3
   },
   "file_extension": ".py",
   "mimetype": "text/x-python",
   "name": "python",
   "nbconvert_exporter": "python",
   "pygments_lexer": "ipython3",
   "version": "3.6.2"
  }
 },
 "nbformat": 4,
 "nbformat_minor": 2
}
