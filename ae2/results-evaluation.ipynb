{
 "cells": [
  {
   "cell_type": "code",
   "execution_count": 9,
   "metadata": {
    "collapsed": true
   },
   "outputs": [],
   "source": [
    "import pandas as pd\n",
    "import os\n",
    "from os.path import join\n",
    "from utils.read_eval import read_eval, get_recalls, merge_same_topic\n",
    "from utils.parse_terrier_input import read_topics\n",
    "\n",
    "\n",
    "sh_or_bat = \"sh\"\n",
    "project_folder = r\"/Users/fferegrino/Documents/GitHub/information-retrieval/ae2/\"\n",
    "hw_files = r\"/Users/fferegrino/Documents/ae1/\"\n",
    "if os.name == 'nt':\n",
    "    project_folder = r\"C:\\Users\\anton\\Documents\\GitHub\\information-retrieval\\ae2\"\n",
    "    hw_files = r\"C:\\\\terrier_data\\\\\"\n",
    "    sh_or_bat = \"bat\"\n",
    "\n",
    "pl2_ltr_eval =  join(project_folder,\"results/pl2_ltr.eval\")\n",
    "pl2_eval =      join(project_folder,\"results/pl2.eval\")"
   ]
  },
  {
   "cell_type": "code",
   "execution_count": 10,
   "metadata": {
    "collapsed": true
   },
   "outputs": [],
   "source": [
    "total_ltr, per_query_ltr = read_eval(pl2_ltr_eval,True)\n",
    "total_ltr.index.name = \"configuration\"\n",
    "total_ltr.index = [\"PL2 LTR\"]\n",
    "\n",
    "total, per_query = read_eval(pl2_eval,True)\n",
    "total.index.name = \"configuration\"\n",
    "total.index = [\"PL2\"]"
   ]
  },
  {
   "cell_type": "markdown",
   "metadata": {},
   "source": [
    "## Q1:  \n",
    "First, in a table, report the effectiveness performances of the two system configurations: LTR (using PL2 to generate the sample) vs. PL2. In your report, show the results in a table as follows (Report all your MAP and P@5 performances to 4 decimal places):  "
   ]
  },
  {
   "cell_type": "code",
   "execution_count": 11,
   "metadata": {},
   "outputs": [
    {
     "data": {
      "text/html": [
       "<div>\n",
       "<style>\n",
       "    .dataframe thead tr:only-child th {\n",
       "        text-align: right;\n",
       "    }\n",
       "\n",
       "    .dataframe thead th {\n",
       "        text-align: left;\n",
       "    }\n",
       "\n",
       "    .dataframe tbody tr th {\n",
       "        vertical-align: top;\n",
       "    }\n",
       "</style>\n",
       "<table border=\"1\" class=\"dataframe\">\n",
       "  <thead>\n",
       "    <tr style=\"text-align: right;\">\n",
       "      <th>measure</th>\n",
       "      <th>map</th>\n",
       "      <th>P_5</th>\n",
       "    </tr>\n",
       "  </thead>\n",
       "  <tbody>\n",
       "    <tr>\n",
       "      <th>PL2 LTR</th>\n",
       "      <td>0.3250</td>\n",
       "      <td>0.1120</td>\n",
       "    </tr>\n",
       "    <tr>\n",
       "      <th>PL2</th>\n",
       "      <td>0.2251</td>\n",
       "      <td>0.0693</td>\n",
       "    </tr>\n",
       "  </tbody>\n",
       "</table>\n",
       "</div>"
      ],
      "text/plain": [
       "measure     map     P_5\n",
       "PL2 LTR  0.3250  0.1120\n",
       "PL2      0.2251  0.0693"
      ]
     },
     "execution_count": 11,
     "metadata": {},
     "output_type": "execute_result"
    }
   ],
   "source": [
    "q1 = pd.concat([\n",
    "    total_ltr[[\"map\", \"P_5\"]],\n",
    "    total[[\"map\", \"P_5\"]]\n",
    "])\n",
    "q1.head()"
   ]
  },
  {
   "cell_type": "markdown",
   "metadata": {},
   "source": [
    "Use the t-test statistical significance test to conclude if the performances of LTR are significantly better than that of PL2 using MAP or P@5.  For example, to conduct a t-test, you can use the online t-test tool available at: [http://www.socscistatistics.com/tests/studentttest/](http://www.socscistatistics.com/tests/studentttest/) and select a two-tailed test with a significance level of 0.05. "
   ]
  },
  {
   "cell_type": "code",
   "execution_count": 8,
   "metadata": {},
   "outputs": [
    {
     "name": "stdout",
     "output_type": "stream",
     "text": [
      "MAP\n",
      "Treatment 1:\n",
      "0.0179,0.1429,0.0452,0.5000,0.0000,0.2500,0.3333,0.0065,0.3333,0.5000,0.0115,0.0019,0.0093,1.0000,0.5000,0.0542,0.0076,1.0000,0.2500,0.0476,0.0065,0.2500,0.0066,0.3333,0.0011,0.3333,0.1250,0.0169,0.0110,0.0159,0.0068,0.0588,1.0000,0.0233,0.0215,0.0769,0.0833,0.1667,0.0714,1.0000,0.5000,0.1667,0.0097,0.0385,0.0000,0.0000,0.1000,0.5000,0.2500,0.1429,0.0110,0.0227,0.0087,0.5000,0.0263,0.3333,0.0000,0.0000,0.2500,1.0000,0.0175,0.0385,1.0000,0.0388,0.0400,0.0714,0.0417,0.0025,0.5000,1.0000,0.0071,1.0000,0.1429,0.5000,0.0035 \n",
      "\n",
      "\n",
      "Treatment 2 (LTR):\n",
      "0.2000,0.1250,0.1288,1.0000,0.0000,0.3333,0.1429,0.0132,1.0000,0.3333,1.0000,0.2000,1.0000,1.0000,1.0000,0.3667,0.3333,1.0000,1.0000,0.5000,0.5000,0.5000,0.5000,1.0000,0.0244,0.1667,1.0000,0.0833,1.0000,0.0130,0.0526,1.0000,1.0000,0.1111,0.0418,0.1429,0.5000,0.0769,0.5000,1.0000,1.0000,1.0000,0.5000,0.1429,0.0000,0.0000,0.2000,0.5000,1.0000,1.0000,0.2000,0.2500,0.0079,1.0000,0.0357,1.0000,0.0000,0.0000,0.5000,1.0000,0.0667,0.1111,0.5000,0.0196,0.0256,0.0345,0.1667,1.0000,0.5000,1.0000,0.0238,1.0000,0.3333,1.0000,0.1667\n",
      "\n",
      "P@5\n",
      "Treatment 1:\n",
      "0.0000,0.0000,0.0000,0.2000,0.0000,0.2000,0.2000,0.0000,0.2000,0.2000,0.0000,0.0000,0.0000,0.2000,0.2000,0.0000,0.0000,0.2000,0.2000,0.0000,0.0000,0.2000,0.0000,0.2000,0.0000,0.2000,0.0000,0.0000,0.0000,0.0000,0.0000,0.0000,0.2000,0.0000,0.0000,0.0000,0.0000,0.0000,0.0000,0.2000,0.2000,0.0000,0.0000,0.0000,0.0000,0.0000,0.0000,0.2000,0.2000,0.0000,0.0000,0.0000,0.0000,0.2000,0.0000,0.2000,0.0000,0.0000,0.2000,0.2000,0.0000,0.0000,0.2000,0.0000,0.0000,0.0000,0.0000,0.0000,0.2000,0.2000,0.0000,0.2000,0.0000,0.2000,0.0000 \n",
      "\n",
      "Treatment 2 (LTR):\n",
      "0.2000,0.0000,0.0000,0.2000,0.0000,0.2000,0.0000,0.0000,0.2000,0.2000,0.8000,0.2000,0.2000,0.2000,0.2000,0.4000,0.2000,0.2000,0.2000,0.2000,0.2000,0.2000,0.2000,0.2000,0.0000,0.0000,0.2000,0.0000,0.2000,0.0000,0.0000,0.2000,0.2000,0.0000,0.0000,0.0000,0.2000,0.0000,0.2000,0.2000,0.2000,0.2000,0.2000,0.0000,0.0000,0.0000,0.2000,0.2000,0.2000,0.2000,0.2000,0.2000,0.0000,0.2000,0.0000,0.2000,0.0000,0.0000,0.2000,0.2000,0.0000,0.0000,0.2000,0.0000,0.0000,0.0000,0.0000,0.2000,0.2000,0.2000,0.0000,0.2000,0.2000,0.2000,0.0000\n"
     ]
    }
   ],
   "source": [
    "print(\"MAP\")\n",
    "print(\"Treatment 1:\")\n",
    "print(\",\".join([m[0] for m in per_query[[\"map\"]].sort_index().values]),\"\\n\")\n",
    "print()\n",
    "print(\"Treatment 2 (LTR):\")\n",
    "print(\",\".join([m[0] for m in per_query_ltr[[\"map\"]].sort_index().values]))\n",
    "print(\"\\nP@5\")\n",
    "print(\"Treatment 1:\")\n",
    "print(\",\".join([m[0] for m in per_query[[\"P_5\"]].sort_index().values]),\"\\n\")\n",
    "print(\"Treatment 2 (LTR):\")\n",
    "print(\",\".join([m[0] for m in per_query_ltr[[\"P_5\"]].sort_index().values]))"
   ]
  },
  {
   "cell_type": "markdown",
   "metadata": {},
   "source": [
    "For your two statistical tests, report their outcomes using the following format:  \n",
    "\n",
    "```\n",
    "LTR vs PL2 on Metric M (M being either MAP or P@5): The t-value is XXXX. The p-value is XXXX. The result is <significant/not significant> at p < .05. \n",
    "```\n",
    "\n",
    "Now, using the outcome of your t-test tool, state if LTR (PL2 sample) is better by a statistically significant margin than PL2 on either or both of the used effectiveness metrics. "
   ]
  },
  {
   "cell_type": "markdown",
   "metadata": {},
   "source": [
    " > LTR vs PL2 on Metric MAP: The t-value is -4.11011. The p-value is .000065. The result is significant at p < .05.  \n",
    " \n",
    " > LTR vs PL2 on Metric P@5: The t-value is -3.45342. The p-value is .000722. The result is significant at p < .05."
   ]
  },
  {
   "cell_type": "code",
   "execution_count": null,
   "metadata": {
    "collapsed": true
   },
   "outputs": [],
   "source": []
  }
 ],
 "metadata": {
  "kernelspec": {
   "display_name": "Python 3",
   "language": "python",
   "name": "python3"
  },
  "language_info": {
   "codemirror_mode": {
    "name": "ipython",
    "version": 3
   },
   "file_extension": ".py",
   "mimetype": "text/x-python",
   "name": "python",
   "nbconvert_exporter": "python",
   "pygments_lexer": "ipython3",
   "version": "3.6.2"
  }
 },
 "nbformat": 4,
 "nbformat_minor": 2
}
