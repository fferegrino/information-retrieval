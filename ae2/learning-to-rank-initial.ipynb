{
 "cells": [
  {
   "cell_type": "code",
   "execution_count": 8,
   "metadata": {},
   "outputs": [],
   "source": [
    "import os\n",
    "from os.path import join\n",
    "import numpy as np\n",
    "import pandas as pd\n",
    "\n",
    "terrier_path =    r\"C:\\Users\\anton\\Terrier\"\n",
    "logs_folder =     r\"C:\\Users\\anton\\Documents\\GitHub\\ir\\ae2\\logs\"\n",
    "results_folder =  r\"C:\\Users\\anton\\Documents\\GitHub\\ir\\ae2\\results\"\n",
    "terrier_index =   r\"C:\\terrier_data\\indices\\blocks_fields_stemming\"\n",
    "topics_file =     r\"C:\\terrier_data\\topics\\HP04\\topics\"\n",
    "qrels =           r\"C:\\terrier_data\\topics\\HP04\\qrels\"\n",
    "\n",
    "sh_or_bat = \"sh\"\n",
    "if os.name == 'nt':\n",
    "    sh_or_bat = \"bat\"\n",
    "\n",
    "results_file = join(results_folder,\"results.txt\")\n",
    "terrier = join(terrier_path, \"bin\", \"trec_terrier.%s\" % sh_or_bat)"
   ]
  },
  {
   "cell_type": "code",
   "execution_count": 25,
   "metadata": {
    "collapsed": true
   },
   "outputs": [],
   "source": [
    "def write_log(file, content, command=None):\n",
    "    with open(join(logs_folder, file), \"w\") as w:\n",
    "        if command is not None:\n",
    "            w.write(command + \"\\n\\n\")\n",
    "        for line in content:\n",
    "            w.write(line + \"\\n\")"
   ]
  },
  {
   "cell_type": "code",
   "execution_count": 26,
   "metadata": {},
   "outputs": [
    {
     "name": "stdout",
     "output_type": "stream",
     "text": [
      "C:\\Users\\anton\\Terrier\\bin\\trec_terrier.bat -r -Dtrec.topics=C:\\terrier_data\\topics\\HP04\\topics -Dtrec.results.file=C:\\Users\\anton\\Documents\\GitHub\\ir\\ae2\\results\\results.txt -Dtrec.model=PL2 -Dterrier.index.path=C:\\terrier_data\\indices\\blocks_fields_stemming\n"
     ]
    }
   ],
   "source": [
    "command=\"%s -r -Dtrec.topics=%s \" % (terrier, topics_file) + \\\n",
    "    \"-Dtrec.results.file=%s -Dtrec.model=PL2 \" % results_file + \\\n",
    "    \"-Dterrier.index.path=%s\" % terrier_index\n",
    "print(command)\n",
    "run_results = !$command\n",
    "write_log(\"query.txt\", run_results, command=command)"
   ]
  },
  {
   "cell_type": "code",
   "execution_count": null,
   "metadata": {
    "collapsed": true
   },
   "outputs": [],
   "source": []
  }
 ],
 "metadata": {
  "kernelspec": {
   "display_name": "Python 3",
   "language": "python",
   "name": "python3"
  },
  "language_info": {
   "codemirror_mode": {
    "name": "ipython",
    "version": 3
   },
   "file_extension": ".py",
   "mimetype": "text/x-python",
   "name": "python",
   "nbconvert_exporter": "python",
   "pygments_lexer": "ipython3",
   "version": "3.6.2"
  }
 },
 "nbformat": 4,
 "nbformat_minor": 2
}
