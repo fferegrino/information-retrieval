{
 "cells": [
  {
   "cell_type": "code",
   "execution_count": 1,
   "metadata": {
    "collapsed": true
   },
   "outputs": [],
   "source": [
    "import os\n",
    "from os.path import join\n",
    "import numpy as np\n",
    "import pandas as pd\n",
    "\n",
    "sh_or_bat = \"sh\"\n",
    "project_folder = r\"/Users/fferegrino/Documents/GitHub/information-retrieval/ae2/\"\n",
    "hw_files = r\"/Users/fferegrino/Documents/ae1/\"\n",
    "if os.name == 'nt':\n",
    "    project_folder = r\"C:\\Users\\anton\\Documents\\GitHub\\information-retrieval\\ae2\"\n",
    "    hw_files = r\"C:\\\\terrier_data\\\\\"\n",
    "    sh_or_bat = \"bat\"\n",
    "\n",
    "terrier_path =      r\"/Users/fferegrino/Documents/terrier-core-4.2\"\n",
    "logs_folder =       join(project_folder,\"logs\")\n",
    "results_folder =    join(project_folder,\"results\")\n",
    "features_file =     join(project_folder,\"features.txt\")\n",
    "jforest_file =      join(project_folder,\"jforests.properties\")\n",
    "terrier_index =     join(hw_files,r\"indices/blocks_fields_stemming\")\n",
    "training_topics =   join(hw_files,r\"topics/training/topics\")\n",
    "validation_topics = join(hw_files,r\"topics/validation/topics\")\n",
    "training_qrels =    join(hw_files,r\"topics/training/qrels\")\n",
    "validation_qrels =  join(hw_files,r\"topics/validation/qrels\")\n",
    "hp04_topics =       join(hw_files,r\"topics/HP04/topics\")\n",
    "hp04_qrels =        join(hw_files,r\"topics/HP04/qrels\")\n",
    "\n",
    "terrier = join(terrier_path, \"bin\", \"trec_terrier.%s\" % sh_or_bat)\n",
    "teval = join(terrier_path, \"bin\", \"trec_eval.%s\" % sh_or_bat)\n",
    "anyclass = join(terrier_path, \"bin\", \"anyclass.%s\" % sh_or_bat)\n",
    "letor_tr_file= join(results_folder, \"tr.letor\")\n",
    "letor_va_file= join(results_folder, \"va.letor\")\n",
    "ensemble_file= join(results_folder, \"ensemble.txt\")"
   ]
  },
  {
   "cell_type": "code",
   "execution_count": 2,
   "metadata": {
    "collapsed": true
   },
   "outputs": [],
   "source": [
    "def write_log(file, content, command=None):\n",
    "    with open(join(logs_folder, file), \"w\") as w:\n",
    "        if command is not None:\n",
    "            w.write(command + \"\\n\\n\")\n",
    "        for line in content:\n",
    "            w.write(line + \"\\n\")"
   ]
  },
  {
   "cell_type": "markdown",
   "metadata": {},
   "source": [
    "Next, we want to retrieve results for the training topics. In this, we are going to be calculating results with multiple features, as listed in the etc/features.list file, so we use a series of Matching classes: FatFull to make a FatResultSet (i.e. a ResultSet with extra posting information), and FatFeaturedScoringMatching to add the additional features, and return a FeaturedResultSet. We then add the document label from the qrels using LabelDecorator, and write the results in a LETOR-compatible results file using Normalised2LETOROutputFormat:"
   ]
  },
  {
   "cell_type": "code",
   "execution_count": 3,
   "metadata": {
    "collapsed": true
   },
   "outputs": [],
   "source": [
    "results_file = join(results_folder,\"pl2_tr_ltr.res\")\n",
    "command=\"%s -r -Dtrec.topics=%s \" % (terrier, training_topics) + \\\n",
    "    \"-Dtrec.results.file=%s -Dtrec.model=PL2 -Dterrier.index.path=%s \" % (results_file,  terrier_index) + \\\n",
    "    \"-Dtrec.matching=FatFeaturedScoringMatching,org.terrier.matching.daat.FatFull \" + \\\n",
    "    \"-Dtrec.querying.outputformat=Normalised2LETOROutputFormat \" + \\\n",
    "    \"-Dquerying.postprocesses.order=QueryExpansion,org.terrier.learning.LabelDecorator \" + \\\n",
    "    \"-Dquerying.postprocesses.controls=labels:org.terrier.learning.LabelDecorator,qe:QueryExpansion \" + \\\n",
    "    \"-Dquerying.default.controls=labels:on \" + \\\n",
    "    \"-Dlearning.labels.file=%s \" % training_qrels + \\\n",
    "    \"-Dtrec.results.file=%s -Dproximity.dependency.type=SD \" % letor_tr_file + \\\n",
    "    \"-Dfat.featured.scoring.matching.features=FILE -Dfat.featured.scoring.matching.features.file=%s \" % features_file \n",
    "    \n",
    "run_results = !$command\n",
    "write_log(\"pl2_tr_ltr_querying.log\", run_results, command=command)\n",
    "\n",
    "#eval_file = join(results_folder, \"pl2_tr_ltr.eval\")\n",
    "#command = \"%s %s %s -q > %s\" % (teval, training_qrels, results_file, eval_file)    \n",
    "\n",
    "#run_results = !$command\n",
    "#write_log(\"pl2_tr_ltr_eval.log\", run_results, command=command)"
   ]
  },
  {
   "cell_type": "markdown",
   "metadata": {},
   "source": [
    "Lets a have a look at what was output into tr.letor: \n",
    "(maybe not, it is too big)"
   ]
  },
  {
   "cell_type": "markdown",
   "metadata": {},
   "source": [
    "The header reports the name of the features. \"score\"”\" means the model used to generate the sample, i.e. the first pass retrieval, in our case DPH. After the header, for each retrieved document for each query, there is a single line in the output. The label obtained from the qrels file is the first entry on each row.\n",
    "\n",
    "We repeat the retrieval step for the validation queries, --this time from the 2003 TREC task--:\n",
    "\n",
    "[Here](http://terrier.org/docs/v4.2/learning.html)"
   ]
  },
  {
   "cell_type": "code",
   "execution_count": 4,
   "metadata": {
    "collapsed": true
   },
   "outputs": [],
   "source": [
    "results_file = join(results_folder,\"pl2_va_ltr.res\")\n",
    "command=\"%s -r -Dtrec.topics=%s \" % (terrier, validation_topics) + \\\n",
    "    \"-Dtrec.results.file=%s -Dtrec.model=PL2 -Dterrier.index.path=%s \" % (results_file,  terrier_index) + \\\n",
    "    \"-Dtrec.matching=FatFeaturedScoringMatching,org.terrier.matching.daat.FatFull \" + \\\n",
    "    \"-Dtrec.querying.outputformat=Normalised2LETOROutputFormat \" + \\\n",
    "    \"-Dquerying.postprocesses.order=QueryExpansion,org.terrier.learning.LabelDecorator \" + \\\n",
    "    \"-Dquerying.postprocesses.controls=labels:org.terrier.learning.LabelDecorator,qe:QueryExpansion \" + \\\n",
    "    \"-Dquerying.default.controls=labels:on \" + \\\n",
    "    \"-Dlearning.labels.file=%s \" % validation_qrels + \\\n",
    "    \"-Dtrec.results.file=%s -Dproximity.dependency.type=SD \" % letor_va_file + \\\n",
    "    \"-Dfat.featured.scoring.matching.features=FILE -Dfat.featured.scoring.matching.features.file=%s \" % features_file \n",
    "    \n",
    "run_results = !$command\n",
    "write_log(\"pl2_va_ltr_querying.log\", run_results, command=command)\n",
    "\n",
    "#eval_file = join(results_folder, \"pl2_va_ltr.eval\")\n",
    "#command = \"%s %s %s -q > %s\" % (teval, training_qrels, results_file, eval_file)    \n",
    "\n",
    "#run_results = !$command\n",
    "#write_log(\"pl2_va_ltr_eval.log\", run_results, command=command)"
   ]
  },
  {
   "cell_type": "code",
   "execution_count": 5,
   "metadata": {
    "collapsed": true
   },
   "outputs": [],
   "source": [
    "command=\"%s edu.uci.jforests.applications.Runner \" % anyclass + \\\n",
    "    \"--config-file %s \" % jforest_file + \\\n",
    "    \"--cmd=generate-bin --ranking --folder %s \" % results_folder + \\\n",
    "    \"--file tr.letor --file va.letor\"\n",
    "    \n",
    "run_results = !$command\n",
    "write_log(\"anyclass_run_1.log\", run_results, command=command)"
   ]
  },
  {
   "cell_type": "code",
   "execution_count": 10,
   "metadata": {
    "collapsed": true
   },
   "outputs": [],
   "source": [
    "tr_bin = join(results_folder, \"tr.bin\")\n",
    "va_bin = join(results_folder, \"va.bin\")\n",
    "command=\"%s edu.uci.jforests.applications.Runner \" % anyclass + \\\n",
    "    \"--config-file %s \" % jforest_file + \\\n",
    "    \"--cmd=train --ranking --folder %s \" % results_folder + \\\n",
    "    \"--train-file %s --validation-file %s \" % (tr_bin, va_bin) + \\\n",
    "    \"--output-model %s\" % ensemble_file\n",
    "    \n",
    "run_results = !$command\n",
    "write_log(\"anyclass_run_2.log\", run_results, command=command)"
   ]
  },
  {
   "cell_type": "markdown",
   "metadata": {},
   "source": [
    "Once the learned model (from Jforests, this is an XML file which takes the form of a gradient boosted regression tree) is obtained in ensemble.txt, we can use this to apply the learned model. The configuration for Terrier is similar to retrieval for the training topics, but we additionally use JforestsModelMatching for application of the learned model, and output the final results using the default, trec_eval compatible TRECDocnoOutputFormat:"
   ]
  },
  {
   "cell_type": "code",
   "execution_count": 14,
   "metadata": {
    "collapsed": true
   },
   "outputs": [],
   "source": [
    "ltr_test_results_file = join(results_folder,\"pl2_te_ltr.res\")\n",
    "jforest_statistics = join(results_folder, \"jforests-feature-stats.txt\")\n",
    "command=\"%s -r -Dtrec.model=PL2 -Dtrec.topics=%s \" % (terrier, hp04_topics) + \\\n",
    "    \"-Dtrec.matching=JforestsModelMatching,FatFeaturedScoringMatching,org.terrier.matching.daat.FatFull \" + \\\n",
    "    \"-Dfat.featured.scoring.matching.features=FILE -Dfat.featured.scoring.matching.features.file=%s \" % features_file + \\\n",
    "    \"-Dtrec.results.file=%s  -Dterrier.index.path=%s \" % (ltr_test_results_file,  terrier_index) + \\\n",
    "    \"-Dfat.matching.learned.jforest.model=%s \" % ensemble_file + \\\n",
    "    \"-Dfat.matching.learned.jforest.statistics=%s \" % jforest_statistics + \\\n",
    "    \"-Dproximity.dependency.type=SD\"\n",
    "    \n",
    "    \n",
    "run_results = !$command\n",
    "write_log(\"pl2_te_ltr_querying.log\", run_results, command=command)"
   ]
  },
  {
   "cell_type": "code",
   "execution_count": 15,
   "metadata": {
    "collapsed": true
   },
   "outputs": [],
   "source": [
    "test_results_file = join(results_folder,\"pl2_te.res\")\n",
    "command=\"%s -r -Dtrec.model=PL2 -Dtrec.topics=%s \" % (terrier, hp04_topics) + \\\n",
    "    \"-Dtrec.results.file=%s  -Dterrier.index.path=%s \" % (test_results_file,  terrier_index) \n",
    "    \n",
    "run_results = !$command\n",
    "write_log(\"pl2_te_querying.log\", run_results, command=command)"
   ]
  },
  {
   "cell_type": "code",
   "execution_count": 16,
   "metadata": {
    "collapsed": true
   },
   "outputs": [],
   "source": [
    "eval_file = join(results_folder, \"pl2_ltr.eval\")\n",
    "command = \"%s %s %s -q > %s\" % (teval, hp04_qrels, ltr_test_results_file, eval_file)\n",
    "run_results = !$command\n",
    "write_log(\"pl2_ltr_eval.log\", run_results, command=command)\n",
    "\n",
    "eval_file = join(results_folder, \"pl2.eval\")\n",
    "command = \"%s %s %s -q > %s\" % (teval, hp04_qrels, test_results_file, eval_file)\n",
    "run_results = !$command\n",
    "write_log(\"pl2_eval.log\", run_results, command=command)"
   ]
  },
  {
   "cell_type": "code",
   "execution_count": null,
   "metadata": {
    "collapsed": true
   },
   "outputs": [],
   "source": []
  }
 ],
 "metadata": {
  "kernelspec": {
   "display_name": "Python 3",
   "language": "python",
   "name": "python3"
  },
  "language_info": {
   "codemirror_mode": {
    "name": "ipython",
    "version": 3
   },
   "file_extension": ".py",
   "mimetype": "text/x-python",
   "name": "python",
   "nbconvert_exporter": "python",
   "pygments_lexer": "ipython3",
   "version": "3.6.2"
  }
 },
 "nbformat": 4,
 "nbformat_minor": 2
}
