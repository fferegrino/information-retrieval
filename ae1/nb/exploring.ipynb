{
 "cells": [
  {
   "cell_type": "code",
   "execution_count": 2,
   "metadata": {
    "collapsed": true
   },
   "outputs": [],
   "source": [
    "import os\n",
    "import pandas as pd\n",
    "import numpy as np\n",
    "\n",
    "from os.path import join\n",
    "\n",
    "from utils.parse_terrier_output import parse_stats, parse_run_results, parse_evaluation_results\n",
    "from utils.read_eval import read_eval, get_recalls\n",
    "from utils.logging import write_log"
   ]
  },
  {
   "cell_type": "code",
   "execution_count": 3,
   "metadata": {
    "collapsed": true
   },
   "outputs": [],
   "source": [
    "terrier_path = r\"/Users/fferegrino/Documents/terrier-core-4.2\"\n",
    "collection_dir = r\"/Users/fferegrino/Documents/ae1/Dotgov_50pc\"\n",
    "\n",
    "logs_folder = r\"/Users/fferegrino/Documents/GitHub/ir-ae1/logs\"\n",
    "results_folder = r\"/Users/fferegrino/Documents/terrier-core-4.2/var/results\""
   ]
  },
  {
   "cell_type": "code",
   "execution_count": 4,
   "metadata": {
    "collapsed": true,
    "scrolled": true
   },
   "outputs": [],
   "source": [
    "sh_or_bat = \"sh\"\n",
    "if os.name == 'nt':\n",
    "    sh_or_bat = \"bat\"\n",
    "    \n",
    "setup = join(terrier_path, \"bin\", \"trec_setup.%s\" % sh_or_bat)\n",
    "terrier = join(terrier_path, \"bin\", \"trec_terrier.%s\" % sh_or_bat)"
   ]
  },
  {
   "cell_type": "markdown",
   "metadata": {},
   "source": [
    "## Configure Terrier for Indexing"
   ]
  },
  {
   "cell_type": "code",
   "execution_count": 4,
   "metadata": {
    "collapsed": true
   },
   "outputs": [],
   "source": [
    "command = \"%s %s\" % (setup, collection_dir)\n",
    "results = !$setup $collection_dir\n",
    "write_log(join(logs_folder,\"prepare-for-indexing.txt\"), results, command=command)"
   ]
  },
  {
   "cell_type": "markdown",
   "metadata": {},
   "source": [
    "## Performing Indexing"
   ]
  },
  {
   "cell_type": "code",
   "execution_count": 5,
   "metadata": {
    "collapsed": true
   },
   "outputs": [],
   "source": [
    "command = \"%s -i\" % terrier\n",
    "indexing_output = !$terrier -i\n",
    "write_log(join(logs_folder,\"indexing-output.txt\"), indexing_output, command=command)"
   ]
  },
  {
   "cell_type": "markdown",
   "metadata": {},
   "source": [
    "### View some stats"
   ]
  },
  {
   "cell_type": "code",
   "execution_count": 5,
   "metadata": {},
   "outputs": [
    {
     "name": "stdout",
     "output_type": "stream",
     "text": [
      "{'size of vocabulary': 2043788, 'number of tokens': 572916194, 'number of pointers': 177737957, 'time elapsed': 0.019}\n"
     ]
    }
   ],
   "source": [
    "stats_output = !$terrier --printstats\n",
    "stats = parse_stats(stats_output)\n",
    "write_log(join(logs_folder,\"stats.txt\"), stats_output, command=\"%s --printstats\" % terrier)\n",
    "print(stats)"
   ]
  },
  {
   "cell_type": "code",
   "execution_count": null,
   "metadata": {
    "collapsed": true
   },
   "outputs": [],
   "source": []
  }
 ],
 "metadata": {
  "kernelspec": {
   "display_name": "Python 3",
   "language": "python",
   "name": "python3"
  },
  "language_info": {
   "codemirror_mode": {
    "name": "ipython",
    "version": 3
   },
   "file_extension": ".py",
   "mimetype": "text/x-python",
   "name": "python",
   "nbconvert_exporter": "python",
   "pygments_lexer": "ipython3",
   "version": "3.6.1"
  }
 },
 "nbformat": 4,
 "nbformat_minor": 2
}
